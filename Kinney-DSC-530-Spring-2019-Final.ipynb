{
 "cells": [
  {
   "cell_type": "markdown",
   "metadata": {},
   "source": [
    "## D. Kinney - DSC 530 Final Project - Spring 2019\n",
    "### Analysis of Vehicle Fatalities in 2017"
   ]
  },
  {
   "cell_type": "code",
   "execution_count": null,
   "metadata": {},
   "outputs": [],
   "source": [
    "from io import BytesIO\n",
    "import matplotlib.pyplot as plt\n",
    "import numpy as np\n",
    "import pandas as pd\n",
    "import statsmodels.formula.api as smf\n",
    "import thinkstats2\n",
    "import thinkplot\n",
    "from urllib.request import urlopen\n",
    "import zipfile\n",
    "%matplotlib inline"
   ]
  },
  {
   "cell_type": "code",
   "execution_count": null,
   "metadata": {},
   "outputs": [],
   "source": [
    "# Retrieve vehicle fatalities data for 2017 from NHTSA website\n",
    "out = BytesIO()\n",
    "out.write(urlopen('ftp://ftp.nhtsa.dot.gov/FARS/2017/National/FARS2017NationalCSV.zip').read())\n",
    "zipped = zipfile.ZipFile(out)\n",
    "zipped.extract('accident.csv')\n",
    "df_fatalities_2017 = pd.read_csv('accident.csv')\n",
    "zipped.extract('person.csv')\n",
    "df_person_2017 = pd.read_csv('person.csv')"
   ]
  },
  {
   "cell_type": "code",
   "execution_count": null,
   "metadata": {},
   "outputs": [],
   "source": [
    "# Functions\n",
    "def PlotHist(series, varName, color, bins):\n",
    "    n, bins, patches = plt.hist(series, bins, facecolor=color, alpha=0.75)\n",
    "    plt.xlabel(varName)\n",
    "    plt.ylabel('Frequency')\n",
    "    plt.grid(True)\n",
    "    plt.show()\n",
    "    \n",
    "def Descriptives(series):\n",
    "    mean = round(series.mean(),2)\n",
    "    spread = round(series.var(),2)\n",
    "    std = round(series.std(),2)\n",
    "    return mean, spread, std"
   ]
  },
  {
   "cell_type": "code",
   "execution_count": null,
   "metadata": {},
   "outputs": [],
   "source": [
    "# Data Cleaning\n",
    "df_fatalities_2017 = df_fatalities_2017.replace([98, 99], np.nan)\n",
    "df_person_2017 = df_person_2017.replace([998, 999], np.nan)\n",
    "df_person_2017 = df_person_2017.replace([99, 99], np.nan)\n",
    "df_person_2017 = df_person_2017.replace([9998, 9999], np.nan)\n",
    "df_person_2017 = df_person_2017[np.isfinite(df_person_2017.MOD_YEAR)]"
   ]
  },
  {
   "cell_type": "code",
   "execution_count": null,
   "metadata": {},
   "outputs": [],
   "source": [
    "# Histograms\n",
    "PlotHist(df_fatalities_2017['MONTH'], \"Month of Accident\", 'purple', 12)\n",
    "PlotHist(df_fatalities_2017['DAY'], \"Day of Accident\", 'blue', 31)\n",
    "PlotHist(df_fatalities_2017['DAY_WEEK'], \"Day of Week of Accident\", 'lightblue', 7)\n",
    "PlotHist(df_fatalities_2017['HOUR'], \"Hour of Accident\", 'green', 24)\n",
    "PlotHist(df_fatalities_2017['ROUTE'], \"Type of Road\", 'yellow', 9)\n",
    "PlotHist(df_fatalities_2017['MAN_COLL'], \"Manner of Collision\", 'orange', 12)\n",
    "PlotHist(df_fatalities_2017['LGT_COND'], \"Light Conditions\", 'red', 9)\n",
    "PlotHist(df_fatalities_2017['WEATHER'], \"Weather Conditions\", 'gray', 12)\n"
   ]
  },
  {
   "cell_type": "code",
   "execution_count": null,
   "metadata": {},
   "outputs": [],
   "source": [
    "# Descriptives\n",
    "month = Descriptives(df_fatalities_2017['MONTH'])\n",
    "day = Descriptives(df_fatalities_2017['DAY'])\n",
    "dow = Descriptives(df_fatalities_2017['DAY_WEEK'])\n",
    "hour = Descriptives(df_fatalities_2017['HOUR'])\n",
    "route = Descriptives(df_fatalities_2017['ROUTE'])\n",
    "manner = Descriptives(df_fatalities_2017['MAN_COLL'])\n",
    "light = Descriptives(df_fatalities_2017['LGT_COND'])\n",
    "weather = Descriptives(df_fatalities_2017['WEATHER'])"
   ]
  },
  {
   "cell_type": "code",
   "execution_count": null,
   "metadata": {},
   "outputs": [],
   "source": [
    "print(\"Variable\\tMean\\tSpread\\tStd Dev\")\n",
    "print(\"Month\\t\\t{}\\t{}\\t{}\".format(month[0], month[1], month[2]))\n",
    "print(\"Day\\t\\t{}\\t{}\\t{}\".format(day[0], day[1], day[2]))\n",
    "print(\"Day of Week\\t{}\\t{}\\t{}\".format(dow[0], dow[1], dow[2]))\n",
    "print(\"Hour\\t\\t{}\\t{}\\t{}\".format(hour[0], hour[1], hour[2]))\n",
    "print(\"Road Type\\t{}\\t{}\\t{}\".format(route[0], route[1], route[2]))\n",
    "print(\"Manner\\t\\t{}\\t{}\\t{}\".format(manner[0], manner[1], manner[2]))\n",
    "print(\"Light\\t\\t{}\\t{}\\t{}\".format(light[0], light[1], light[2]))\n",
    "print(\"Weather\\t\\t{}\\t{}\\t{}\".format(weather[0], weather[1], weather[2]))"
   ]
  },
  {
   "cell_type": "code",
   "execution_count": null,
   "metadata": {},
   "outputs": [],
   "source": [
    "# PMF\n",
    "df_midweek = df_fatalities_2017[df_fatalities_2017.DAY_WEEK == 3]\n",
    "df_saturday = df_fatalities_2017[df_fatalities_2017.DAY_WEEK == 7]\n",
    "midweek_pmf = thinkstats2.Pmf(df_midweek['HOUR'])\n",
    "saturday_pmf = thinkstats2.Pmf(df_saturday['HOUR'])"
   ]
  },
  {
   "cell_type": "code",
   "execution_count": null,
   "metadata": {},
   "outputs": [],
   "source": [
    "width = 1\n",
    "thinkplot.PrePlot(2, cols=2)\n",
    "thinkplot.Pmf(midweek_pmf, align='right', width=width, label = 'Wednesday', color = 'green')\n",
    "thinkplot.Pmf(saturday_pmf, align='left', width=width, label = 'Saturday', color = 'red')\n",
    "thinkplot.Config(xlabel=\"Hour\",ylabel=\"PMF\")"
   ]
  },
  {
   "cell_type": "code",
   "execution_count": null,
   "metadata": {},
   "outputs": [],
   "source": [
    "# CDF\n",
    "cdf = thinkstats2.Cdf(df_fatalities_2017.HOUR, label='Hour')"
   ]
  },
  {
   "cell_type": "code",
   "execution_count": null,
   "metadata": {},
   "outputs": [],
   "source": [
    "thinkplot.Cdf(cdf)\n",
    "thinkplot.Show(xlabel='Hour', ylabel='CDF')"
   ]
  },
  {
   "cell_type": "code",
   "execution_count": null,
   "metadata": {},
   "outputs": [],
   "source": [
    "# Create new variable--Time--HH:MM of accident\n",
    "# df_person_2017.drop('Time', axis=1)\n",
    "df_person_2017['HOUR'] = df_person_2017['HOUR'].astype(int, errors='ignore')\n",
    "df_person_2017['MINUTE'] = df_person_2017['MINUTE'].astype(int, errors='ignore')\n",
    "df_person_2017['Time'] = df_person_2017['HOUR'].astype(str).str.cat(df_person_2017['MINUTE'].astype(str) ,sep=\":\")\n",
    "df_person_2017['Time2'] = df_person_2017['HOUR'].astype(str).str.cat(df_person_2017['MINUTE'].astype(str) ,sep=\"\")"
   ]
  },
  {
   "cell_type": "code",
   "execution_count": null,
   "metadata": {},
   "outputs": [],
   "source": [
    "# Set up sample series \n",
    "sample = thinkstats2.SampleRows(df_person_2017, 2000)\n",
    "sample = sample.dropna(subset=['AGE', 'MOD_YEAR', 'Time','Time2'])\n",
    "age, time, time2, vehicle_year = sample.AGE, sample.Time, sample.Time2, sample.MOD_YEAR"
   ]
  },
  {
   "cell_type": "code",
   "execution_count": null,
   "metadata": {},
   "outputs": [],
   "source": [
    "thinkplot.Scatter(age, time),\n",
    "thinkplot.Show(xlabel='Age of Driver',\n",
    "    ylabel='Time of Accident')\n",
    "# , axis=[0, 24,1, 7])"
   ]
  },
  {
   "cell_type": "code",
   "execution_count": null,
   "metadata": {},
   "outputs": [],
   "source": [
    "print(thinkstats2.Cov(age.astype(int), time2.astype(int)))\n",
    "print(thinkstats2.Corr(age.astype(int), time2.astype(int)))"
   ]
  },
  {
   "cell_type": "code",
   "execution_count": null,
   "metadata": {},
   "outputs": [],
   "source": [
    "thinkplot.Scatter(age, vehicle_year),\n",
    "thinkplot.Show(xlabel='Age of Driver',\n",
    "    ylabel='Vehicle Year of Manufacture')"
   ]
  },
  {
   "cell_type": "code",
   "execution_count": null,
   "metadata": {},
   "outputs": [],
   "source": [
    "print(thinkstats2.Cov(age.astype(int), vehicle_year.astype(int)))\n",
    "print(thinkstats2.Corr(age.astype(int), vehicle_year.astype(int)))"
   ]
  },
  {
   "cell_type": "code",
   "execution_count": null,
   "metadata": {},
   "outputs": [],
   "source": [
    "class CorrelationPermute(thinkstats2.HypothesisTest):\n",
    "    def TestStatistic(self, data):\n",
    "        xs, ys = data\n",
    "        test_stat = abs(thinkstats2.Corr(xs, ys))\n",
    "        return test_stat\n",
    "\n",
    "    def RunModel(self):\n",
    "        xs, ys = self.data\n",
    "        xs = np.random.permutation(xs)\n",
    "        return xs, ys"
   ]
  },
  {
   "cell_type": "code",
   "execution_count": null,
   "metadata": {},
   "outputs": [],
   "source": [
    "df_temp = df_fatalities_2017.dropna(subset=['HOUR', 'DAY_WEEK'])\n",
    "data = df_temp.HOUR.values, df_temp.DAY_WEEK.values\n",
    "ht = CorrelationPermute(data)\n",
    "pvalue = ht.PValue()"
   ]
  },
  {
   "cell_type": "code",
   "execution_count": null,
   "metadata": {},
   "outputs": [],
   "source": [
    "print(pvalue)"
   ]
  },
  {
   "cell_type": "code",
   "execution_count": null,
   "metadata": {},
   "outputs": [],
   "source": [
    "thinkstats2.Corr( df_fatalities_2017['HOUR'].astype(int), df_fatalities_2017['DAY_WEEK'].astype(int))"
   ]
  },
  {
   "cell_type": "code",
   "execution_count": null,
   "metadata": {},
   "outputs": [],
   "source": [
    "formula = 'DAY_WEEK ~ HOUR'\n",
    "model = smf.ols(formula, data=df_fatalities_2017)\n",
    "results = model.fit()\n",
    "results.summary()"
   ]
  }
 ],
 "metadata": {
  "kernelspec": {
   "display_name": "Python 3",
   "language": "python",
   "name": "python3"
  },
  "language_info": {
   "codemirror_mode": {
    "name": "ipython",
    "version": 3
   },
   "file_extension": ".py",
   "mimetype": "text/x-python",
   "name": "python",
   "nbconvert_exporter": "python",
   "pygments_lexer": "ipython3",
   "version": "3.7.1"
  }
 },
 "nbformat": 4,
 "nbformat_minor": 2
}
